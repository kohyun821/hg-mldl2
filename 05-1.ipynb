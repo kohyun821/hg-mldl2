{
  "cells": [
    {
      "cell_type": "markdown",
      "metadata": {
        "id": "5uA_6TRHEMHV"
      },
      "source": [
        "# 결정 트리"
      ]
    },
    {
      "cell_type": "markdown",
      "source": [
        "머신러닝에서 중요한 앙상블 모델?을 만들기에 매우 중요함..."
      ],
      "metadata": {
        "id": "U8tQbjIJY4DK"
      }
    },
    {
      "cell_type": "markdown",
      "metadata": {
        "id": "26KAIfzEEMHc"
      },
      "source": [
        "<table align=\"left\"><tr><td>\n",
        "<a href=\"https://colab.research.google.com/github/rickiepark/hg-mldl2/blob/main/05-1.ipynb\" target=\"_parent\"><img src=\"https://colab.research.google.com/assets/colab-badge.svg\" alt=\"코랩에서 실행하기\"/></a>\n",
        "</td></tr></table>"
      ]
    },
    {
      "cell_type": "markdown",
      "metadata": {
        "id": "gdF762MWpLDx"
      },
      "source": [
        "## 로지스틱 회귀로 와인 분류하기"
      ]
    },
    {
      "cell_type": "code",
      "execution_count": 1,
      "metadata": {
        "id": "VuuF90PHgcgs"
      },
      "outputs": [],
      "source": [
        "import pandas as pd\n",
        "\n",
        "wine = pd.read_csv('https://bit.ly/wine_csv_data')"
      ]
    },
    {
      "cell_type": "code",
      "execution_count": 2,
      "metadata": {
        "colab": {
          "base_uri": "https://localhost:8080/",
          "height": 206
        },
        "id": "dThiku6olKLY",
        "outputId": "e11ee1f6-73e4-4da7-9d50-405012c11d4e"
      },
      "outputs": [
        {
          "output_type": "execute_result",
          "data": {
            "text/plain": [
              "   alcohol  sugar    pH  class\n",
              "0      9.4    1.9  3.51    0.0\n",
              "1      9.8    2.6  3.20    0.0\n",
              "2      9.8    2.3  3.26    0.0\n",
              "3      9.8    1.9  3.16    0.0\n",
              "4      9.4    1.9  3.51    0.0"
            ],
            "text/html": [
              "\n",
              "  <div id=\"df-b6026b05-5952-4442-87bc-dd5c13a5a64e\" class=\"colab-df-container\">\n",
              "    <div>\n",
              "<style scoped>\n",
              "    .dataframe tbody tr th:only-of-type {\n",
              "        vertical-align: middle;\n",
              "    }\n",
              "\n",
              "    .dataframe tbody tr th {\n",
              "        vertical-align: top;\n",
              "    }\n",
              "\n",
              "    .dataframe thead th {\n",
              "        text-align: right;\n",
              "    }\n",
              "</style>\n",
              "<table border=\"1\" class=\"dataframe\">\n",
              "  <thead>\n",
              "    <tr style=\"text-align: right;\">\n",
              "      <th></th>\n",
              "      <th>alcohol</th>\n",
              "      <th>sugar</th>\n",
              "      <th>pH</th>\n",
              "      <th>class</th>\n",
              "    </tr>\n",
              "  </thead>\n",
              "  <tbody>\n",
              "    <tr>\n",
              "      <th>0</th>\n",
              "      <td>9.4</td>\n",
              "      <td>1.9</td>\n",
              "      <td>3.51</td>\n",
              "      <td>0.0</td>\n",
              "    </tr>\n",
              "    <tr>\n",
              "      <th>1</th>\n",
              "      <td>9.8</td>\n",
              "      <td>2.6</td>\n",
              "      <td>3.20</td>\n",
              "      <td>0.0</td>\n",
              "    </tr>\n",
              "    <tr>\n",
              "      <th>2</th>\n",
              "      <td>9.8</td>\n",
              "      <td>2.3</td>\n",
              "      <td>3.26</td>\n",
              "      <td>0.0</td>\n",
              "    </tr>\n",
              "    <tr>\n",
              "      <th>3</th>\n",
              "      <td>9.8</td>\n",
              "      <td>1.9</td>\n",
              "      <td>3.16</td>\n",
              "      <td>0.0</td>\n",
              "    </tr>\n",
              "    <tr>\n",
              "      <th>4</th>\n",
              "      <td>9.4</td>\n",
              "      <td>1.9</td>\n",
              "      <td>3.51</td>\n",
              "      <td>0.0</td>\n",
              "    </tr>\n",
              "  </tbody>\n",
              "</table>\n",
              "</div>\n",
              "    <div class=\"colab-df-buttons\">\n",
              "\n",
              "  <div class=\"colab-df-container\">\n",
              "    <button class=\"colab-df-convert\" onclick=\"convertToInteractive('df-b6026b05-5952-4442-87bc-dd5c13a5a64e')\"\n",
              "            title=\"Convert this dataframe to an interactive table.\"\n",
              "            style=\"display:none;\">\n",
              "\n",
              "  <svg xmlns=\"http://www.w3.org/2000/svg\" height=\"24px\" viewBox=\"0 -960 960 960\">\n",
              "    <path d=\"M120-120v-720h720v720H120Zm60-500h600v-160H180v160Zm220 220h160v-160H400v160Zm0 220h160v-160H400v160ZM180-400h160v-160H180v160Zm440 0h160v-160H620v160ZM180-180h160v-160H180v160Zm440 0h160v-160H620v160Z\"/>\n",
              "  </svg>\n",
              "    </button>\n",
              "\n",
              "  <style>\n",
              "    .colab-df-container {\n",
              "      display:flex;\n",
              "      gap: 12px;\n",
              "    }\n",
              "\n",
              "    .colab-df-convert {\n",
              "      background-color: #E8F0FE;\n",
              "      border: none;\n",
              "      border-radius: 50%;\n",
              "      cursor: pointer;\n",
              "      display: none;\n",
              "      fill: #1967D2;\n",
              "      height: 32px;\n",
              "      padding: 0 0 0 0;\n",
              "      width: 32px;\n",
              "    }\n",
              "\n",
              "    .colab-df-convert:hover {\n",
              "      background-color: #E2EBFA;\n",
              "      box-shadow: 0px 1px 2px rgba(60, 64, 67, 0.3), 0px 1px 3px 1px rgba(60, 64, 67, 0.15);\n",
              "      fill: #174EA6;\n",
              "    }\n",
              "\n",
              "    .colab-df-buttons div {\n",
              "      margin-bottom: 4px;\n",
              "    }\n",
              "\n",
              "    [theme=dark] .colab-df-convert {\n",
              "      background-color: #3B4455;\n",
              "      fill: #D2E3FC;\n",
              "    }\n",
              "\n",
              "    [theme=dark] .colab-df-convert:hover {\n",
              "      background-color: #434B5C;\n",
              "      box-shadow: 0px 1px 3px 1px rgba(0, 0, 0, 0.15);\n",
              "      filter: drop-shadow(0px 1px 2px rgba(0, 0, 0, 0.3));\n",
              "      fill: #FFFFFF;\n",
              "    }\n",
              "  </style>\n",
              "\n",
              "    <script>\n",
              "      const buttonEl =\n",
              "        document.querySelector('#df-b6026b05-5952-4442-87bc-dd5c13a5a64e button.colab-df-convert');\n",
              "      buttonEl.style.display =\n",
              "        google.colab.kernel.accessAllowed ? 'block' : 'none';\n",
              "\n",
              "      async function convertToInteractive(key) {\n",
              "        const element = document.querySelector('#df-b6026b05-5952-4442-87bc-dd5c13a5a64e');\n",
              "        const dataTable =\n",
              "          await google.colab.kernel.invokeFunction('convertToInteractive',\n",
              "                                                    [key], {});\n",
              "        if (!dataTable) return;\n",
              "\n",
              "        const docLinkHtml = 'Like what you see? Visit the ' +\n",
              "          '<a target=\"_blank\" href=https://colab.research.google.com/notebooks/data_table.ipynb>data table notebook</a>'\n",
              "          + ' to learn more about interactive tables.';\n",
              "        element.innerHTML = '';\n",
              "        dataTable['output_type'] = 'display_data';\n",
              "        await google.colab.output.renderOutput(dataTable, element);\n",
              "        const docLink = document.createElement('div');\n",
              "        docLink.innerHTML = docLinkHtml;\n",
              "        element.appendChild(docLink);\n",
              "      }\n",
              "    </script>\n",
              "  </div>\n",
              "\n",
              "\n",
              "    <div id=\"df-24c12821-1ae9-45b0-97b7-45fa56367e63\">\n",
              "      <button class=\"colab-df-quickchart\" onclick=\"quickchart('df-24c12821-1ae9-45b0-97b7-45fa56367e63')\"\n",
              "                title=\"Suggest charts\"\n",
              "                style=\"display:none;\">\n",
              "\n",
              "<svg xmlns=\"http://www.w3.org/2000/svg\" height=\"24px\"viewBox=\"0 0 24 24\"\n",
              "     width=\"24px\">\n",
              "    <g>\n",
              "        <path d=\"M19 3H5c-1.1 0-2 .9-2 2v14c0 1.1.9 2 2 2h14c1.1 0 2-.9 2-2V5c0-1.1-.9-2-2-2zM9 17H7v-7h2v7zm4 0h-2V7h2v10zm4 0h-2v-4h2v4z\"/>\n",
              "    </g>\n",
              "</svg>\n",
              "      </button>\n",
              "\n",
              "<style>\n",
              "  .colab-df-quickchart {\n",
              "      --bg-color: #E8F0FE;\n",
              "      --fill-color: #1967D2;\n",
              "      --hover-bg-color: #E2EBFA;\n",
              "      --hover-fill-color: #174EA6;\n",
              "      --disabled-fill-color: #AAA;\n",
              "      --disabled-bg-color: #DDD;\n",
              "  }\n",
              "\n",
              "  [theme=dark] .colab-df-quickchart {\n",
              "      --bg-color: #3B4455;\n",
              "      --fill-color: #D2E3FC;\n",
              "      --hover-bg-color: #434B5C;\n",
              "      --hover-fill-color: #FFFFFF;\n",
              "      --disabled-bg-color: #3B4455;\n",
              "      --disabled-fill-color: #666;\n",
              "  }\n",
              "\n",
              "  .colab-df-quickchart {\n",
              "    background-color: var(--bg-color);\n",
              "    border: none;\n",
              "    border-radius: 50%;\n",
              "    cursor: pointer;\n",
              "    display: none;\n",
              "    fill: var(--fill-color);\n",
              "    height: 32px;\n",
              "    padding: 0;\n",
              "    width: 32px;\n",
              "  }\n",
              "\n",
              "  .colab-df-quickchart:hover {\n",
              "    background-color: var(--hover-bg-color);\n",
              "    box-shadow: 0 1px 2px rgba(60, 64, 67, 0.3), 0 1px 3px 1px rgba(60, 64, 67, 0.15);\n",
              "    fill: var(--button-hover-fill-color);\n",
              "  }\n",
              "\n",
              "  .colab-df-quickchart-complete:disabled,\n",
              "  .colab-df-quickchart-complete:disabled:hover {\n",
              "    background-color: var(--disabled-bg-color);\n",
              "    fill: var(--disabled-fill-color);\n",
              "    box-shadow: none;\n",
              "  }\n",
              "\n",
              "  .colab-df-spinner {\n",
              "    border: 2px solid var(--fill-color);\n",
              "    border-color: transparent;\n",
              "    border-bottom-color: var(--fill-color);\n",
              "    animation:\n",
              "      spin 1s steps(1) infinite;\n",
              "  }\n",
              "\n",
              "  @keyframes spin {\n",
              "    0% {\n",
              "      border-color: transparent;\n",
              "      border-bottom-color: var(--fill-color);\n",
              "      border-left-color: var(--fill-color);\n",
              "    }\n",
              "    20% {\n",
              "      border-color: transparent;\n",
              "      border-left-color: var(--fill-color);\n",
              "      border-top-color: var(--fill-color);\n",
              "    }\n",
              "    30% {\n",
              "      border-color: transparent;\n",
              "      border-left-color: var(--fill-color);\n",
              "      border-top-color: var(--fill-color);\n",
              "      border-right-color: var(--fill-color);\n",
              "    }\n",
              "    40% {\n",
              "      border-color: transparent;\n",
              "      border-right-color: var(--fill-color);\n",
              "      border-top-color: var(--fill-color);\n",
              "    }\n",
              "    60% {\n",
              "      border-color: transparent;\n",
              "      border-right-color: var(--fill-color);\n",
              "    }\n",
              "    80% {\n",
              "      border-color: transparent;\n",
              "      border-right-color: var(--fill-color);\n",
              "      border-bottom-color: var(--fill-color);\n",
              "    }\n",
              "    90% {\n",
              "      border-color: transparent;\n",
              "      border-bottom-color: var(--fill-color);\n",
              "    }\n",
              "  }\n",
              "</style>\n",
              "\n",
              "      <script>\n",
              "        async function quickchart(key) {\n",
              "          const quickchartButtonEl =\n",
              "            document.querySelector('#' + key + ' button');\n",
              "          quickchartButtonEl.disabled = true;  // To prevent multiple clicks.\n",
              "          quickchartButtonEl.classList.add('colab-df-spinner');\n",
              "          try {\n",
              "            const charts = await google.colab.kernel.invokeFunction(\n",
              "                'suggestCharts', [key], {});\n",
              "          } catch (error) {\n",
              "            console.error('Error during call to suggestCharts:', error);\n",
              "          }\n",
              "          quickchartButtonEl.classList.remove('colab-df-spinner');\n",
              "          quickchartButtonEl.classList.add('colab-df-quickchart-complete');\n",
              "        }\n",
              "        (() => {\n",
              "          let quickchartButtonEl =\n",
              "            document.querySelector('#df-24c12821-1ae9-45b0-97b7-45fa56367e63 button');\n",
              "          quickchartButtonEl.style.display =\n",
              "            google.colab.kernel.accessAllowed ? 'block' : 'none';\n",
              "        })();\n",
              "      </script>\n",
              "    </div>\n",
              "\n",
              "    </div>\n",
              "  </div>\n"
            ],
            "application/vnd.google.colaboratory.intrinsic+json": {
              "type": "dataframe",
              "variable_name": "wine",
              "summary": "{\n  \"name\": \"wine\",\n  \"rows\": 6497,\n  \"fields\": [\n    {\n      \"column\": \"alcohol\",\n      \"properties\": {\n        \"dtype\": \"number\",\n        \"std\": 1.192711748870997,\n        \"min\": 8.0,\n        \"max\": 14.9,\n        \"num_unique_values\": 111,\n        \"samples\": [\n          10.933333333333302,\n          9.7,\n          10.5\n        ],\n        \"semantic_type\": \"\",\n        \"description\": \"\"\n      }\n    },\n    {\n      \"column\": \"sugar\",\n      \"properties\": {\n        \"dtype\": \"number\",\n        \"std\": 4.757803743147445,\n        \"min\": 0.6,\n        \"max\": 65.8,\n        \"num_unique_values\": 316,\n        \"samples\": [\n          18.95,\n          3.2,\n          9.3\n        ],\n        \"semantic_type\": \"\",\n        \"description\": \"\"\n      }\n    },\n    {\n      \"column\": \"pH\",\n      \"properties\": {\n        \"dtype\": \"number\",\n        \"std\": 0.1607872021039883,\n        \"min\": 2.72,\n        \"max\": 4.01,\n        \"num_unique_values\": 108,\n        \"samples\": [\n          3.74,\n          3.17,\n          3.3\n        ],\n        \"semantic_type\": \"\",\n        \"description\": \"\"\n      }\n    },\n    {\n      \"column\": \"class\",\n      \"properties\": {\n        \"dtype\": \"number\",\n        \"std\": 0.4307786597787123,\n        \"min\": 0.0,\n        \"max\": 1.0,\n        \"num_unique_values\": 2,\n        \"samples\": [\n          1.0,\n          0.0\n        ],\n        \"semantic_type\": \"\",\n        \"description\": \"\"\n      }\n    }\n  ]\n}"
            }
          },
          "metadata": {},
          "execution_count": 2
        }
      ],
      "source": [
        "wine.head()"
      ]
    },
    {
      "cell_type": "markdown",
      "source": [
        "![image.png](data:image/png;base64,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)"
      ],
      "metadata": {
        "id": "jWIHM4jiaPIt"
      }
    },
    {
      "cell_type": "code",
      "execution_count": 10,
      "metadata": {
        "colab": {
          "base_uri": "https://localhost:8080/"
        },
        "id": "ao-fa_VTnauv",
        "outputId": "2896622e-1904-4c58-f3e2-2560125fbe3a"
      },
      "outputs": [
        {
          "output_type": "stream",
          "name": "stdout",
          "text": [
            "<class 'pandas.core.frame.DataFrame'>\n",
            "RangeIndex: 6497 entries, 0 to 6496\n",
            "Data columns (total 4 columns):\n",
            " #   Column   Non-Null Count  Dtype  \n",
            "---  ------   --------------  -----  \n",
            " 0   alcohol  6497 non-null   float64\n",
            " 1   sugar    6497 non-null   float64\n",
            " 2   pH       6497 non-null   float64\n",
            " 3   class    6497 non-null   float64\n",
            "dtypes: float64(4)\n",
            "memory usage: 203.2 KB\n"
          ]
        }
      ],
      "source": [
        "#6497개의 데이터가 있음..\n",
        "# not null이(누락되지 않은 값) 6497개.\n",
        "\n",
        "# 메모리에서 사용량은 데이터의 크기임.\n",
        "# 누락된 값이 있다면 잘 생각하고, 기억하여 테스트 데이터에도 적용을 시켜야함.\n",
        "\n",
        "# 만약 평균을 이용하여, 누락된 값에 적용을 한다면??\n",
        "# -> 누락된 값을 제외한 값들의 평균을 적용 시킨다..\n",
        "wine.info()"
      ]
    },
    {
      "cell_type": "code",
      "execution_count": 9,
      "metadata": {
        "colab": {
          "base_uri": "https://localhost:8080/",
          "height": 300
        },
        "id": "_lBE4cRZndrn",
        "outputId": "39a770b7-fafb-467f-a7f8-1ed3aa2b9905"
      },
      "outputs": [
        {
          "output_type": "execute_result",
          "data": {
            "text/plain": [
              "           alcohol        sugar           pH        class\n",
              "count  6497.000000  6497.000000  6497.000000  6497.000000\n",
              "mean     10.491801     5.443235     3.218501     0.753886\n",
              "std       1.192712     4.757804     0.160787     0.430779\n",
              "min       8.000000     0.600000     2.720000     0.000000\n",
              "25%       9.500000     1.800000     3.110000     1.000000\n",
              "50%      10.300000     3.000000     3.210000     1.000000\n",
              "75%      11.300000     8.100000     3.320000     1.000000\n",
              "max      14.900000    65.800000     4.010000     1.000000"
            ],
            "text/html": [
              "\n",
              "  <div id=\"df-8c4289f6-6873-4fbb-82f7-41e178f805a9\" class=\"colab-df-container\">\n",
              "    <div>\n",
              "<style scoped>\n",
              "    .dataframe tbody tr th:only-of-type {\n",
              "        vertical-align: middle;\n",
              "    }\n",
              "\n",
              "    .dataframe tbody tr th {\n",
              "        vertical-align: top;\n",
              "    }\n",
              "\n",
              "    .dataframe thead th {\n",
              "        text-align: right;\n",
              "    }\n",
              "</style>\n",
              "<table border=\"1\" class=\"dataframe\">\n",
              "  <thead>\n",
              "    <tr style=\"text-align: right;\">\n",
              "      <th></th>\n",
              "      <th>alcohol</th>\n",
              "      <th>sugar</th>\n",
              "      <th>pH</th>\n",
              "      <th>class</th>\n",
              "    </tr>\n",
              "  </thead>\n",
              "  <tbody>\n",
              "    <tr>\n",
              "      <th>count</th>\n",
              "      <td>6497.000000</td>\n",
              "      <td>6497.000000</td>\n",
              "      <td>6497.000000</td>\n",
              "      <td>6497.000000</td>\n",
              "    </tr>\n",
              "    <tr>\n",
              "      <th>mean</th>\n",
              "      <td>10.491801</td>\n",
              "      <td>5.443235</td>\n",
              "      <td>3.218501</td>\n",
              "      <td>0.753886</td>\n",
              "    </tr>\n",
              "    <tr>\n",
              "      <th>std</th>\n",
              "      <td>1.192712</td>\n",
              "      <td>4.757804</td>\n",
              "      <td>0.160787</td>\n",
              "      <td>0.430779</td>\n",
              "    </tr>\n",
              "    <tr>\n",
              "      <th>min</th>\n",
              "      <td>8.000000</td>\n",
              "      <td>0.600000</td>\n",
              "      <td>2.720000</td>\n",
              "      <td>0.000000</td>\n",
              "    </tr>\n",
              "    <tr>\n",
              "      <th>25%</th>\n",
              "      <td>9.500000</td>\n",
              "      <td>1.800000</td>\n",
              "      <td>3.110000</td>\n",
              "      <td>1.000000</td>\n",
              "    </tr>\n",
              "    <tr>\n",
              "      <th>50%</th>\n",
              "      <td>10.300000</td>\n",
              "      <td>3.000000</td>\n",
              "      <td>3.210000</td>\n",
              "      <td>1.000000</td>\n",
              "    </tr>\n",
              "    <tr>\n",
              "      <th>75%</th>\n",
              "      <td>11.300000</td>\n",
              "      <td>8.100000</td>\n",
              "      <td>3.320000</td>\n",
              "      <td>1.000000</td>\n",
              "    </tr>\n",
              "    <tr>\n",
              "      <th>max</th>\n",
              "      <td>14.900000</td>\n",
              "      <td>65.800000</td>\n",
              "      <td>4.010000</td>\n",
              "      <td>1.000000</td>\n",
              "    </tr>\n",
              "  </tbody>\n",
              "</table>\n",
              "</div>\n",
              "    <div class=\"colab-df-buttons\">\n",
              "\n",
              "  <div class=\"colab-df-container\">\n",
              "    <button class=\"colab-df-convert\" onclick=\"convertToInteractive('df-8c4289f6-6873-4fbb-82f7-41e178f805a9')\"\n",
              "            title=\"Convert this dataframe to an interactive table.\"\n",
              "            style=\"display:none;\">\n",
              "\n",
              "  <svg xmlns=\"http://www.w3.org/2000/svg\" height=\"24px\" viewBox=\"0 -960 960 960\">\n",
              "    <path d=\"M120-120v-720h720v720H120Zm60-500h600v-160H180v160Zm220 220h160v-160H400v160Zm0 220h160v-160H400v160ZM180-400h160v-160H180v160Zm440 0h160v-160H620v160ZM180-180h160v-160H180v160Zm440 0h160v-160H620v160Z\"/>\n",
              "  </svg>\n",
              "    </button>\n",
              "\n",
              "  <style>\n",
              "    .colab-df-container {\n",
              "      display:flex;\n",
              "      gap: 12px;\n",
              "    }\n",
              "\n",
              "    .colab-df-convert {\n",
              "      background-color: #E8F0FE;\n",
              "      border: none;\n",
              "      border-radius: 50%;\n",
              "      cursor: pointer;\n",
              "      display: none;\n",
              "      fill: #1967D2;\n",
              "      height: 32px;\n",
              "      padding: 0 0 0 0;\n",
              "      width: 32px;\n",
              "    }\n",
              "\n",
              "    .colab-df-convert:hover {\n",
              "      background-color: #E2EBFA;\n",
              "      box-shadow: 0px 1px 2px rgba(60, 64, 67, 0.3), 0px 1px 3px 1px rgba(60, 64, 67, 0.15);\n",
              "      fill: #174EA6;\n",
              "    }\n",
              "\n",
              "    .colab-df-buttons div {\n",
              "      margin-bottom: 4px;\n",
              "    }\n",
              "\n",
              "    [theme=dark] .colab-df-convert {\n",
              "      background-color: #3B4455;\n",
              "      fill: #D2E3FC;\n",
              "    }\n",
              "\n",
              "    [theme=dark] .colab-df-convert:hover {\n",
              "      background-color: #434B5C;\n",
              "      box-shadow: 0px 1px 3px 1px rgba(0, 0, 0, 0.15);\n",
              "      filter: drop-shadow(0px 1px 2px rgba(0, 0, 0, 0.3));\n",
              "      fill: #FFFFFF;\n",
              "    }\n",
              "  </style>\n",
              "\n",
              "    <script>\n",
              "      const buttonEl =\n",
              "        document.querySelector('#df-8c4289f6-6873-4fbb-82f7-41e178f805a9 button.colab-df-convert');\n",
              "      buttonEl.style.display =\n",
              "        google.colab.kernel.accessAllowed ? 'block' : 'none';\n",
              "\n",
              "      async function convertToInteractive(key) {\n",
              "        const element = document.querySelector('#df-8c4289f6-6873-4fbb-82f7-41e178f805a9');\n",
              "        const dataTable =\n",
              "          await google.colab.kernel.invokeFunction('convertToInteractive',\n",
              "                                                    [key], {});\n",
              "        if (!dataTable) return;\n",
              "\n",
              "        const docLinkHtml = 'Like what you see? Visit the ' +\n",
              "          '<a target=\"_blank\" href=https://colab.research.google.com/notebooks/data_table.ipynb>data table notebook</a>'\n",
              "          + ' to learn more about interactive tables.';\n",
              "        element.innerHTML = '';\n",
              "        dataTable['output_type'] = 'display_data';\n",
              "        await google.colab.output.renderOutput(dataTable, element);\n",
              "        const docLink = document.createElement('div');\n",
              "        docLink.innerHTML = docLinkHtml;\n",
              "        element.appendChild(docLink);\n",
              "      }\n",
              "    </script>\n",
              "  </div>\n",
              "\n",
              "\n",
              "    <div id=\"df-0d6690eb-8782-4785-8c3d-20ffc65501a5\">\n",
              "      <button class=\"colab-df-quickchart\" onclick=\"quickchart('df-0d6690eb-8782-4785-8c3d-20ffc65501a5')\"\n",
              "                title=\"Suggest charts\"\n",
              "                style=\"display:none;\">\n",
              "\n",
              "<svg xmlns=\"http://www.w3.org/2000/svg\" height=\"24px\"viewBox=\"0 0 24 24\"\n",
              "     width=\"24px\">\n",
              "    <g>\n",
              "        <path d=\"M19 3H5c-1.1 0-2 .9-2 2v14c0 1.1.9 2 2 2h14c1.1 0 2-.9 2-2V5c0-1.1-.9-2-2-2zM9 17H7v-7h2v7zm4 0h-2V7h2v10zm4 0h-2v-4h2v4z\"/>\n",
              "    </g>\n",
              "</svg>\n",
              "      </button>\n",
              "\n",
              "<style>\n",
              "  .colab-df-quickchart {\n",
              "      --bg-color: #E8F0FE;\n",
              "      --fill-color: #1967D2;\n",
              "      --hover-bg-color: #E2EBFA;\n",
              "      --hover-fill-color: #174EA6;\n",
              "      --disabled-fill-color: #AAA;\n",
              "      --disabled-bg-color: #DDD;\n",
              "  }\n",
              "\n",
              "  [theme=dark] .colab-df-quickchart {\n",
              "      --bg-color: #3B4455;\n",
              "      --fill-color: #D2E3FC;\n",
              "      --hover-bg-color: #434B5C;\n",
              "      --hover-fill-color: #FFFFFF;\n",
              "      --disabled-bg-color: #3B4455;\n",
              "      --disabled-fill-color: #666;\n",
              "  }\n",
              "\n",
              "  .colab-df-quickchart {\n",
              "    background-color: var(--bg-color);\n",
              "    border: none;\n",
              "    border-radius: 50%;\n",
              "    cursor: pointer;\n",
              "    display: none;\n",
              "    fill: var(--fill-color);\n",
              "    height: 32px;\n",
              "    padding: 0;\n",
              "    width: 32px;\n",
              "  }\n",
              "\n",
              "  .colab-df-quickchart:hover {\n",
              "    background-color: var(--hover-bg-color);\n",
              "    box-shadow: 0 1px 2px rgba(60, 64, 67, 0.3), 0 1px 3px 1px rgba(60, 64, 67, 0.15);\n",
              "    fill: var(--button-hover-fill-color);\n",
              "  }\n",
              "\n",
              "  .colab-df-quickchart-complete:disabled,\n",
              "  .colab-df-quickchart-complete:disabled:hover {\n",
              "    background-color: var(--disabled-bg-color);\n",
              "    fill: var(--disabled-fill-color);\n",
              "    box-shadow: none;\n",
              "  }\n",
              "\n",
              "  .colab-df-spinner {\n",
              "    border: 2px solid var(--fill-color);\n",
              "    border-color: transparent;\n",
              "    border-bottom-color: var(--fill-color);\n",
              "    animation:\n",
              "      spin 1s steps(1) infinite;\n",
              "  }\n",
              "\n",
              "  @keyframes spin {\n",
              "    0% {\n",
              "      border-color: transparent;\n",
              "      border-bottom-color: var(--fill-color);\n",
              "      border-left-color: var(--fill-color);\n",
              "    }\n",
              "    20% {\n",
              "      border-color: transparent;\n",
              "      border-left-color: var(--fill-color);\n",
              "      border-top-color: var(--fill-color);\n",
              "    }\n",
              "    30% {\n",
              "      border-color: transparent;\n",
              "      border-left-color: var(--fill-color);\n",
              "      border-top-color: var(--fill-color);\n",
              "      border-right-color: var(--fill-color);\n",
              "    }\n",
              "    40% {\n",
              "      border-color: transparent;\n",
              "      border-right-color: var(--fill-color);\n",
              "      border-top-color: var(--fill-color);\n",
              "    }\n",
              "    60% {\n",
              "      border-color: transparent;\n",
              "      border-right-color: var(--fill-color);\n",
              "    }\n",
              "    80% {\n",
              "      border-color: transparent;\n",
              "      border-right-color: var(--fill-color);\n",
              "      border-bottom-color: var(--fill-color);\n",
              "    }\n",
              "    90% {\n",
              "      border-color: transparent;\n",
              "      border-bottom-color: var(--fill-color);\n",
              "    }\n",
              "  }\n",
              "</style>\n",
              "\n",
              "      <script>\n",
              "        async function quickchart(key) {\n",
              "          const quickchartButtonEl =\n",
              "            document.querySelector('#' + key + ' button');\n",
              "          quickchartButtonEl.disabled = true;  // To prevent multiple clicks.\n",
              "          quickchartButtonEl.classList.add('colab-df-spinner');\n",
              "          try {\n",
              "            const charts = await google.colab.kernel.invokeFunction(\n",
              "                'suggestCharts', [key], {});\n",
              "          } catch (error) {\n",
              "            console.error('Error during call to suggestCharts:', error);\n",
              "          }\n",
              "          quickchartButtonEl.classList.remove('colab-df-spinner');\n",
              "          quickchartButtonEl.classList.add('colab-df-quickchart-complete');\n",
              "        }\n",
              "        (() => {\n",
              "          let quickchartButtonEl =\n",
              "            document.querySelector('#df-0d6690eb-8782-4785-8c3d-20ffc65501a5 button');\n",
              "          quickchartButtonEl.style.display =\n",
              "            google.colab.kernel.accessAllowed ? 'block' : 'none';\n",
              "        })();\n",
              "      </script>\n",
              "    </div>\n",
              "\n",
              "    </div>\n",
              "  </div>\n"
            ],
            "application/vnd.google.colaboratory.intrinsic+json": {
              "type": "dataframe",
              "summary": "{\n  \"name\": \"wine\",\n  \"rows\": 8,\n  \"fields\": [\n    {\n      \"column\": \"alcohol\",\n      \"properties\": {\n        \"dtype\": \"number\",\n        \"std\": 2293.7220855129385,\n        \"min\": 1.192711748870997,\n        \"max\": 6497.0,\n        \"num_unique_values\": 8,\n        \"samples\": [\n          10.491800831152839,\n          10.3,\n          6497.0\n        ],\n        \"semantic_type\": \"\",\n        \"description\": \"\"\n      }\n    },\n    {\n      \"column\": \"sugar\",\n      \"properties\": {\n        \"dtype\": \"number\",\n        \"std\": 2292.619201552109,\n        \"min\": 0.6,\n        \"max\": 6497.0,\n        \"num_unique_values\": 8,\n        \"samples\": [\n          5.443235339387409,\n          3.0,\n          6497.0\n        ],\n        \"semantic_type\": \"\",\n        \"description\": \"\"\n      }\n    },\n    {\n      \"column\": \"pH\",\n      \"properties\": {\n        \"dtype\": \"number\",\n        \"std\": 2296.039173424216,\n        \"min\": 0.1607872021039883,\n        \"max\": 6497.0,\n        \"num_unique_values\": 8,\n        \"samples\": [\n          3.2185008465445586,\n          3.21,\n          6497.0\n        ],\n        \"semantic_type\": \"\",\n        \"description\": \"\"\n      }\n    },\n    {\n      \"column\": \"class\",\n      \"properties\": {\n        \"dtype\": \"number\",\n        \"std\": 2296.7745419728712,\n        \"min\": 0.0,\n        \"max\": 6497.0,\n        \"num_unique_values\": 5,\n        \"samples\": [\n          0.7538864091118977,\n          1.0,\n          0.4307786597787123\n        ],\n        \"semantic_type\": \"\",\n        \"description\": \"\"\n      }\n    }\n  ]\n}"
            }
          },
          "metadata": {},
          "execution_count": 9
        }
      ],
      "source": [
        "# 간단한 통계치를 보여줌.\n",
        "\n",
        "wine.describe()"
      ]
    },
    {
      "cell_type": "code",
      "execution_count": null,
      "metadata": {
        "id": "ORKbGhMGlQRO"
      },
      "outputs": [],
      "source": [
        "data = wine[['alcohol', 'sugar', 'pH']]\n",
        "target = wine['class']"
      ]
    },
    {
      "cell_type": "code",
      "execution_count": null,
      "metadata": {
        "id": "OMCECWknm3x7"
      },
      "outputs": [],
      "source": [
        "from sklearn.model_selection import train_test_split\n",
        "\n",
        "train_input, test_input, train_target, test_target = train_test_split(\n",
        "    data, target, test_size=0.2, random_state=42)"
      ]
    },
    {
      "cell_type": "code",
      "execution_count": null,
      "metadata": {
        "colab": {
          "base_uri": "https://localhost:8080/"
        },
        "id": "iUJ7AGovnYrm",
        "outputId": "ede6a4eb-8e4e-4c39-a81d-f83c73e2beda"
      },
      "outputs": [
        {
          "output_type": "stream",
          "name": "stdout",
          "text": [
            "(5197, 3) (1300, 3)\n"
          ]
        }
      ],
      "source": [
        "print(train_input.shape, test_input.shape)"
      ]
    },
    {
      "cell_type": "code",
      "execution_count": null,
      "metadata": {
        "id": "lDoSN0sEnrVc"
      },
      "outputs": [],
      "source": [
        "from sklearn.preprocessing import StandardScaler\n",
        "\n",
        "ss = StandardScaler()\n",
        "ss.fit(train_input)\n",
        "\n",
        "train_scaled = ss.transform(train_input)\n",
        "test_scaled = ss.transform(test_input)"
      ]
    },
    {
      "cell_type": "code",
      "execution_count": null,
      "metadata": {
        "colab": {
          "base_uri": "https://localhost:8080/"
        },
        "id": "hNBO3JgCn7p1",
        "outputId": "6f457db9-c83f-4e20-d6ec-c94074352ecd"
      },
      "outputs": [
        {
          "output_type": "stream",
          "name": "stdout",
          "text": [
            "0.7808350971714451\n",
            "0.7776923076923077\n"
          ]
        }
      ],
      "source": [
        "from sklearn.linear_model import LogisticRegression\n",
        "\n",
        "lr = LogisticRegression()\n",
        "lr.fit(train_scaled, train_target)\n",
        "\n",
        "print(lr.score(train_scaled, train_target))\n",
        "print(lr.score(test_scaled, test_target))"
      ]
    },
    {
      "cell_type": "markdown",
      "metadata": {
        "id": "Huyjgx02sS1v"
      },
      "source": [
        "### 설명하기 쉬운 모델과 어려운 모델"
      ]
    },
    {
      "cell_type": "code",
      "execution_count": null,
      "metadata": {
        "colab": {
          "base_uri": "https://localhost:8080/"
        },
        "id": "Nnekb2vbsVxL",
        "outputId": "f9fee55b-136b-40eb-8748-6544f9885998"
      },
      "outputs": [
        {
          "output_type": "stream",
          "name": "stdout",
          "text": [
            "[[ 0.51268071  1.67335441 -0.68775646]] [1.81773456]\n"
          ]
        }
      ],
      "source": [
        "print(lr.coef_, lr.intercept_)"
      ]
    },
    {
      "cell_type": "markdown",
      "metadata": {
        "id": "kfL8p3L5_T-B"
      },
      "source": [
        "## 결정 트리"
      ]
    },
    {
      "cell_type": "code",
      "execution_count": null,
      "metadata": {
        "colab": {
          "base_uri": "https://localhost:8080/"
        },
        "id": "1yO5owNno9BR",
        "outputId": "9ce33de2-7fba-4fea-8880-436276a0a37c"
      },
      "outputs": [
        {
          "output_type": "stream",
          "name": "stdout",
          "text": [
            "0.996921300750433\n",
            "0.8592307692307692\n"
          ]
        }
      ],
      "source": [
        "from sklearn.tree import DecisionTreeClassifier\n",
        "\n",
        "dt = DecisionTreeClassifier(random_state=42)\n",
        "dt.fit(train_scaled, train_target)\n",
        "\n",
        "print(dt.score(train_scaled, train_target))\n",
        "print(dt.score(test_scaled, test_target))"
      ]
    },
    {
      "cell_type": "code",
      "execution_count": null,
      "metadata": {
        "id": "ln3bvp_TpBCW"
      },
      "outputs": [],
      "source": [
        "import matplotlib.pyplot as plt\n",
        "from sklearn.tree import plot_tree\n",
        "\n",
        "plt.figure(figsize=(10,7))\n",
        "plot_tree(dt)\n",
        "plt.show()"
      ]
    },
    {
      "cell_type": "code",
      "execution_count": null,
      "metadata": {
        "id": "9Bmmuxaa-aRu"
      },
      "outputs": [],
      "source": [
        "plt.figure(figsize=(10,7))\n",
        "plot_tree(dt, max_depth=1, filled=True,\n",
        "          feature_names=['alcohol', 'sugar', 'pH'])\n",
        "plt.show()"
      ]
    },
    {
      "cell_type": "markdown",
      "metadata": {
        "id": "uw9MwzTmRAuN"
      },
      "source": [
        "### 가지치기"
      ]
    },
    {
      "cell_type": "code",
      "execution_count": null,
      "metadata": {
        "id": "f8U4ER6L97_O"
      },
      "outputs": [],
      "source": [
        "dt = DecisionTreeClassifier(max_depth=3, random_state=42)\n",
        "dt.fit(train_scaled, train_target)\n",
        "\n",
        "print(dt.score(train_scaled, train_target))\n",
        "print(dt.score(test_scaled, test_target))"
      ]
    },
    {
      "cell_type": "code",
      "execution_count": null,
      "metadata": {
        "id": "QBMxpJA3-A7Q"
      },
      "outputs": [],
      "source": [
        "plt.figure(figsize=(20,15))\n",
        "plot_tree(dt, filled=True, feature_names=['alcohol', 'sugar', 'pH'])\n",
        "plt.show()"
      ]
    },
    {
      "cell_type": "code",
      "execution_count": null,
      "metadata": {
        "id": "o0wJS34n_KBW"
      },
      "outputs": [],
      "source": [
        "dt = DecisionTreeClassifier(max_depth=3, random_state=42)\n",
        "dt.fit(train_input, train_target)\n",
        "\n",
        "print(dt.score(train_input, train_target))\n",
        "print(dt.score(test_input, test_target))"
      ]
    },
    {
      "cell_type": "code",
      "execution_count": null,
      "metadata": {
        "id": "Kt_biWBq_M-p"
      },
      "outputs": [],
      "source": [
        "plt.figure(figsize=(20,15))\n",
        "plot_tree(dt, filled=True, feature_names=['alcohol', 'sugar', 'pH'])\n",
        "plt.show()"
      ]
    },
    {
      "cell_type": "code",
      "execution_count": null,
      "metadata": {
        "id": "odS13_8fymhN"
      },
      "outputs": [],
      "source": [
        "print(dt.feature_importances_)"
      ]
    },
    {
      "cell_type": "markdown",
      "metadata": {
        "id": "eDAXu9g61MD5"
      },
      "source": [
        "## 확인문제"
      ]
    },
    {
      "cell_type": "code",
      "execution_count": null,
      "metadata": {
        "id": "t_rqSrgS1OZI"
      },
      "outputs": [],
      "source": [
        "dt = DecisionTreeClassifier(min_impurity_decrease=0.0005, random_state=42)\n",
        "dt.fit(train_input, train_target)\n",
        "\n",
        "print(dt.score(train_input, train_target))\n",
        "print(dt.score(test_input, test_target))"
      ]
    },
    {
      "cell_type": "code",
      "execution_count": null,
      "metadata": {
        "id": "7BIdDPsv2AOA"
      },
      "outputs": [],
      "source": [
        "plt.figure(figsize=(20,15))\n",
        "plot_tree(dt, filled=True, feature_names=['alcohol', 'sugar', 'pH'])\n",
        "plt.show()"
      ]
    }
  ],
  "metadata": {
    "colab": {
      "name": "05-1 결정 트리",
      "provenance": []
    },
    "kernelspec": {
      "display_name": "default:Python",
      "language": "python",
      "name": "conda-env-default-py"
    },
    "language_info": {
      "codemirror_mode": {
        "name": "ipython",
        "version": 3
      },
      "file_extension": ".py",
      "mimetype": "text/x-python",
      "name": "python",
      "nbconvert_exporter": "python",
      "pygments_lexer": "ipython3",
      "version": "3.9.10"
    }
  },
  "nbformat": 4,
  "nbformat_minor": 0
}